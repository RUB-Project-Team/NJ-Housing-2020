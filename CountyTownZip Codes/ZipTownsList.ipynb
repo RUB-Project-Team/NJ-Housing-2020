{
 "cells": [
  {
   "cell_type": "code",
   "execution_count": 95,
   "metadata": {},
   "outputs": [],
   "source": [
    "#Import libraries\n",
    "import requests\n",
    "import lxml.html as lh\n",
    "import pandas as pd"
   ]
  },
  {
   "cell_type": "code",
   "execution_count": 26,
   "metadata": {},
   "outputs": [],
   "source": [
    "#Get the Website URL for data fetch\n",
    "url='https://www.zip-codes.com/state/nj.asp'\n",
    "\n",
    "#Create a handle, page, to handle the contents of the website\n",
    "page = requests.get(url)\n",
    "\n",
    "#Store the contents of the website under doc\n",
    "doc = lh.fromstring(page.content)\n",
    "\n",
    "#Parse data that are stored between <tr>..</tr> of HTML\n",
    "tr_elements = doc.xpath('//table')"
   ]
  },
  {
   "cell_type": "code",
   "execution_count": 37,
   "metadata": {},
   "outputs": [
    {
     "data": {
      "text/plain": [
       "<Element tr at 0x1d92176cdb8>"
      ]
     },
     "execution_count": 37,
     "metadata": {},
     "output_type": "execute_result"
    }
   ],
   "source": [
    "#Get the table/tr elements\n",
    "table_elements = doc.xpath('//table//tr')\n",
    "table_elements[2]"
   ]
  },
  {
   "cell_type": "code",
   "execution_count": 92,
   "metadata": {},
   "outputs": [],
   "source": [
    "#17 is first tr and 747 is last tr in zip code table\n",
    "#Declare empty lists\n",
    "zipCode=[]\n",
    "towns=[]\n",
    "county=[]\n",
    "zip_type=[] #standard,PO and Unique\n",
    "\n",
    "#Loop through all tr elements within the table\n",
    "for j in range(17,748):\n",
    "    i=-1\n",
    "    for t in table_elements[j]:\n",
    "        i+=1\n",
    "        name=t.text_content()\n",
    "        #print(name)\n",
    "        if i==0:\n",
    "            #Zip format is \"ZIP Code 0xxxx\"\n",
    "            zipCode.append(name.split(\" \")[2])\n",
    "        elif i==1:\n",
    "            towns.append(name)\n",
    "        elif i==2:\n",
    "            county.append(name)\n",
    "        elif i==3:\n",
    "            zip_type.append(name)"
   ]
  },
  {
   "cell_type": "code",
   "execution_count": 93,
   "metadata": {},
   "outputs": [
    {
     "name": "stdout",
     "output_type": "stream",
     "text": [
      "731\n",
      "731\n",
      "731\n",
      "731\n"
     ]
    }
   ],
   "source": [
    "#Check array size to make sure all zip codes are captured\n",
    "print(len(zipCode))\n",
    "print(len(towns))\n",
    "print(len(county))\n",
    "print(len(zip_type))"
   ]
  },
  {
   "cell_type": "code",
   "execution_count": 94,
   "metadata": {},
   "outputs": [],
   "source": [
    "#Prepare Data Frame\n",
    "county_town_zip=pd.DataFrame({\"County\":county,\"Town\":towns,\"Zip Code\":zipCode,\"Zip Type\":zip_type})"
   ]
  },
  {
   "cell_type": "code",
   "execution_count": 96,
   "metadata": {},
   "outputs": [
    {
     "data": {
      "text/html": [
       "<div>\n",
       "<style scoped>\n",
       "    .dataframe tbody tr th:only-of-type {\n",
       "        vertical-align: middle;\n",
       "    }\n",
       "\n",
       "    .dataframe tbody tr th {\n",
       "        vertical-align: top;\n",
       "    }\n",
       "\n",
       "    .dataframe thead th {\n",
       "        text-align: right;\n",
       "    }\n",
       "</style>\n",
       "<table border=\"1\" class=\"dataframe\">\n",
       "  <thead>\n",
       "    <tr style=\"text-align: right;\">\n",
       "      <th></th>\n",
       "      <th>County</th>\n",
       "      <th>Town</th>\n",
       "      <th>Zip Code</th>\n",
       "      <th>Zip Type</th>\n",
       "    </tr>\n",
       "  </thead>\n",
       "  <tbody>\n",
       "    <tr>\n",
       "      <td>0</td>\n",
       "      <td>Middlesex</td>\n",
       "      <td>Avenel</td>\n",
       "      <td>07001</td>\n",
       "      <td>Standard</td>\n",
       "    </tr>\n",
       "    <tr>\n",
       "      <td>1</td>\n",
       "      <td>Hudson</td>\n",
       "      <td>Bayonne</td>\n",
       "      <td>07002</td>\n",
       "      <td>Standard</td>\n",
       "    </tr>\n",
       "    <tr>\n",
       "      <td>2</td>\n",
       "      <td>Essex</td>\n",
       "      <td>Bloomfield</td>\n",
       "      <td>07003</td>\n",
       "      <td>Standard</td>\n",
       "    </tr>\n",
       "    <tr>\n",
       "      <td>3</td>\n",
       "      <td>Essex</td>\n",
       "      <td>Fairfield</td>\n",
       "      <td>07004</td>\n",
       "      <td>Standard</td>\n",
       "    </tr>\n",
       "    <tr>\n",
       "      <td>4</td>\n",
       "      <td>Morris</td>\n",
       "      <td>Boonton</td>\n",
       "      <td>07005</td>\n",
       "      <td>Standard</td>\n",
       "    </tr>\n",
       "  </tbody>\n",
       "</table>\n",
       "</div>"
      ],
      "text/plain": [
       "      County        Town Zip Code  Zip Type\n",
       "0  Middlesex      Avenel    07001  Standard\n",
       "1     Hudson     Bayonne    07002  Standard\n",
       "2      Essex  Bloomfield    07003  Standard\n",
       "3      Essex   Fairfield    07004  Standard\n",
       "4     Morris     Boonton    07005  Standard"
      ]
     },
     "execution_count": 96,
     "metadata": {},
     "output_type": "execute_result"
    }
   ],
   "source": [
    "#Display Zip code result set\n",
    "county_town_zip.head()"
   ]
  },
  {
   "cell_type": "code",
   "execution_count": 100,
   "metadata": {},
   "outputs": [],
   "source": [
    "#Export data to csv\n",
    "filepath = os.path.join(\"\",\"output\",\"CountyTownZip_Data.csv\")\n",
    "county_town_zip.to_csv(filepath, index = False)"
   ]
  },
  {
   "cell_type": "code",
   "execution_count": null,
   "metadata": {},
   "outputs": [],
   "source": []
  },
  {
   "cell_type": "code",
   "execution_count": null,
   "metadata": {},
   "outputs": [],
   "source": []
  }
 ],
 "metadata": {
  "kernelspec": {
   "display_name": "Python 3",
   "language": "python",
   "name": "python3"
  },
  "language_info": {
   "codemirror_mode": {
    "name": "ipython",
    "version": 3
   },
   "file_extension": ".py",
   "mimetype": "text/x-python",
   "name": "python",
   "nbconvert_exporter": "python",
   "pygments_lexer": "ipython3",
   "version": "3.7.6"
  }
 },
 "nbformat": 4,
 "nbformat_minor": 4
}
