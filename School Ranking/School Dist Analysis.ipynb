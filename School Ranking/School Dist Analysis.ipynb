{
 "cells": [
  {
   "cell_type": "code",
   "execution_count": 1,
   "metadata": {},
   "outputs": [],
   "source": [
    "#Import Libraries\n",
    "import pandas as pd\n",
    "import requests\n",
    "import json\n",
    "import os\n",
    "from pandas.io.json import json_normalize  "
   ]
  },
  {
   "cell_type": "code",
   "execution_count": 2,
   "metadata": {},
   "outputs": [],
   "source": [
    "#Get API key\n",
    "from config import appKey"
   ]
  },
  {
   "cell_type": "code",
   "execution_count": 3,
   "metadata": {},
   "outputs": [],
   "source": [
    "#File Path\n",
    "file_path=os.path.join(\"..\",\"Final Output Data\",\"districtRank_data.csv\")\n",
    "\n",
    "#Parameters\n",
    "param0=\"&perPage=50\"\n",
    "param1=\"&appID=59309557\"\n",
    "param2=\"&appKey=\"+appKey\n",
    "param3=\"&page=\"\n",
    "\n",
    "#Base URL\n",
    "base_url=url=\"https://api.schooldigger.com/v1.2/rankings/districts/NJ?year=2019\"+param0+param1+param2"
   ]
  },
  {
   "cell_type": "code",
   "execution_count": 4,
   "metadata": {},
   "outputs": [],
   "source": [
    "#Get page count and school count info from header\n",
    "page_count=28\n",
    "school_count: 1356\n",
    "    \n",
    "#List to store district result set\n",
    "df_list=[] "
   ]
  },
  {
   "cell_type": "code",
   "execution_count": 5,
   "metadata": {},
   "outputs": [],
   "source": [
    "#Loop through all pages\n",
    "for i in range(1,29):\n",
    "    \n",
    "    #Set page # parameter\n",
    "    param3=\"&page=\"+str(i)\n",
    "    \n",
    "    #Build URL\n",
    "    url=base_url+param3\n",
    "    \n",
    "    #Get json response\n",
    "    response = requests.get(url).json()\n",
    "    \n",
    "    #Normalize json file\n",
    "    df = json_normalize(response)\n",
    "    \n",
    "    try:\n",
    "        #\n",
    "        #Get results from the data frame\n",
    "        district_set=pd.DataFrame(df[\"districtList\"][0])\n",
    "\n",
    "        #lets get address details\n",
    "        district_address = json_normalize(district_set['address']) \n",
    "\n",
    "        #Get district address details\n",
    "        try:\n",
    "            street=district_address[\"street\"]\n",
    "        except:\n",
    "            street=\"\"\n",
    "        try:\n",
    "            city=district_address[\"city\"]\n",
    "        except:\n",
    "            city=\"\"\n",
    "        try:\n",
    "            zipcode=district_address[\"zip\"]\n",
    "        except:\n",
    "            zipcode=\"\"\n",
    "        try:\n",
    "            lat=district_address[\"latLong.latitude\"]\n",
    "        except:\n",
    "            lat=\"\"\n",
    "        try:\n",
    "            lng=district_address[\"latLong.longitude\"]\n",
    "        except:\n",
    "            lng=\"\"\n",
    "\n",
    "        #Append columns in school district data set\n",
    "        district_set[\"City\"]=city\n",
    "        district_set[\"Zip Code\"]=zipcode\n",
    "        district_set[\"Address\"]=street\n",
    "        district_set[\"Lat\"]=lat\n",
    "        district_set[\"Lng\"]=lng\n",
    "\n",
    "        #Lets work on school rank history\n",
    "        school_rank=pd.DataFrame(district_set['rankHistory'][0])\n",
    "\n",
    "        #Get school ranks - interested in 2018 and 2019 \n",
    "        try:\n",
    "            year2018=school_rank[\"year\"].iloc[0]\n",
    "        except:\n",
    "            year2018=\"2018\"\n",
    "        try:\n",
    "            year2018rank=school_rank[\"rank\"].iloc[0]\n",
    "        except:\n",
    "            year2018rank=\"\"     \n",
    "        try:\n",
    "            year2018rankof=school_rank[\"rankOf\"].iloc[0]\n",
    "        except:\n",
    "            year2018rankof=\"\"\n",
    "        try:\n",
    "            year2018rankstar=school_rank[\"rankStars\"].iloc[0]\n",
    "        except:\n",
    "            year2018rankstar=\"\"\n",
    "        try:\n",
    "            year2018staterank=school_rank[\"rankStatewidePercentage\"].iloc[0]\n",
    "        except:\n",
    "            year2018staterank=\"\"\n",
    "        try:\n",
    "            year2018rankscore=school_rank[\"rankScore\"].iloc[0]\n",
    "        except:\n",
    "            year2018rankscore=\"\"\n",
    "        try:\n",
    "            year2019=school_rank[\"year\"].iloc[1]\n",
    "        except:\n",
    "            year2019=\"2019\"\n",
    "        try:\n",
    "            year2019rank=school_rank[\"rank\"].iloc[1]\n",
    "        except:\n",
    "            year2019rank=\"\"\n",
    "        try:\n",
    "            year2019rankstar=school_rank[\"rankOf\"].iloc[1]\n",
    "        except:\n",
    "            year2019rankstar=\"\"\n",
    "        try:\n",
    "            year2019rankof=school_rank[\"rankStars\"].iloc[1]\n",
    "        except:\n",
    "            year2019rankof=\"\"\n",
    "        try:\n",
    "            year2019staterank=school_rank[\"rankStatewidePercentage\"].iloc[1]\n",
    "        except:\n",
    "            year2019staterank=\"\"\n",
    "        try:\n",
    "            year2019rankscore=school_rank[\"rankScore\"].iloc[1]\n",
    "        except:\n",
    "            year2019rankscore=\"\"\n",
    "\n",
    "        #Append columns in df4\n",
    "        #district_set[\"Year 2018\"]=year2018\n",
    "        district_set[\"2018 Rank\"]=year2018rank\n",
    "        district_set[\"2018 Rank of\"]=year2018rankof\n",
    "        district_set[\"2018 Rank Stars\"]=year2018rankstar\n",
    "        district_set[\"2018 State Rank\"]=year2018staterank\n",
    "        district_set[\"2018 Rank Score\"]=year2018rankscore\n",
    "        #district_set[\"Year 2019\"]=year2019\n",
    "        district_set[\"2019 Rank\"]=year2019rank\n",
    "        district_set[\"2019 Rank of\"]=year2019rankof\n",
    "        district_set[\"2019 Rank Stars\"]=year2019rankstar\n",
    "        district_set[\"2019 State Rank\"]=year2019staterank\n",
    "        district_set[\"2019 Rank Score\"]=year2019rankscore\n",
    "\n",
    "        #Get school details\n",
    "        school_info=pd.DataFrame(district_set['districtYearlyDetails'][0])\n",
    "        try:\n",
    "            studentcount_2019=school_info[\"numberOfStudents\"]\n",
    "        except:\n",
    "            studentcount_2019=\"\"\n",
    "            \n",
    "        district_set[\"2019 Student Count\"]=studentcount_2019\n",
    "\n",
    "        #Populate Data \n",
    "        df_list.append(district_set)\n",
    "    except:\n",
    "        continue"
   ]
  },
  {
   "cell_type": "code",
   "execution_count": 6,
   "metadata": {},
   "outputs": [
    {
     "data": {
      "text/plain": [
       "13"
      ]
     },
     "execution_count": 6,
     "metadata": {},
     "output_type": "execute_result"
    }
   ],
   "source": [
    "#Check length of list -should be 28 sets\n",
    "len(df_list) #Looks like to sets not returned"
   ]
  },
  {
   "cell_type": "code",
   "execution_count": 7,
   "metadata": {},
   "outputs": [],
   "source": [
    "#Lets merge all data\n",
    "district_data = pd.concat(df_list,sort=False)"
   ]
  },
  {
   "cell_type": "code",
   "execution_count": 8,
   "metadata": {},
   "outputs": [
    {
     "data": {
      "text/plain": [
       "Index(['districtID', 'districtName', 'phone', 'url', 'address', 'hasBoundary',\n",
       "       'county', 'lowGrade', 'highGrade', 'numberTotalSchools',\n",
       "       'numberPrimarySchools', 'numberMiddleSchools', 'numberHighSchools',\n",
       "       'numberAlternativeSchools', 'rankHistory', 'districtYearlyDetails',\n",
       "       'City', 'Zip Code', 'Address', 'Lat', 'Lng', '2018 Rank',\n",
       "       '2018 Rank of', '2018 Rank Stars', '2018 State Rank', '2018 Rank Score',\n",
       "       '2019 Rank', '2019 Rank of', '2019 Rank Stars', '2019 State Rank',\n",
       "       '2019 Rank Score', '2019 Student Count'],\n",
       "      dtype='object')"
      ]
     },
     "execution_count": 8,
     "metadata": {},
     "output_type": "execute_result"
    }
   ],
   "source": [
    "#Check district data columns\n",
    "district_data.columns"
   ]
  },
  {
   "cell_type": "code",
   "execution_count": 9,
   "metadata": {},
   "outputs": [],
   "source": [
    "#Drop columns that we extracted data from\n",
    "district_data=district_data.drop(columns=[\"phone\",\"url\",\"address\",\"hasBoundary\",\"county\",\"numberPrimarySchools\",\n",
    "                                             \"numberMiddleSchools\",\"numberHighSchools\",\"numberAlternativeSchools\",                                           \n",
    "                                             \"rankHistory\",\"districtYearlyDetails\"],axis=1)"
   ]
  },
  {
   "cell_type": "code",
   "execution_count": 10,
   "metadata": {},
   "outputs": [],
   "source": [
    "#Rename columns\n",
    "district_data = district_data.rename(columns ={\"districtID\": \"Dist ID\",\"districtName\":\"Dist Name\",\n",
    "                           \"lowGrade\":\"Low Grade\",\"highGrade\":\"High Grade\",\"numberTotalSchools\":\"School Count\"})"
   ]
  },
  {
   "cell_type": "code",
   "execution_count": 11,
   "metadata": {},
   "outputs": [],
   "source": [
    "#Reorder column names\n",
    "district_data=district_data[['Dist ID', 'Dist Name', 'City', 'Zip Code', 'Address', 'Lat', 'Lng',  \n",
    "                                     '2018 Rank', '2018 Rank of', '2018 Rank Stars', '2018 State Rank','2018 Rank Score',\n",
    "                                     '2019 Rank','2019 Rank of', '2019 Rank Stars','2019 State Rank', '2019 Rank Score',\n",
    "                                     '2019 Student Count', 'Low Grade', 'High Grade', 'School Count']]"
   ]
  },
  {
   "cell_type": "code",
   "execution_count": 12,
   "metadata": {},
   "outputs": [
    {
     "data": {
      "text/html": [
       "<div>\n",
       "<style scoped>\n",
       "    .dataframe tbody tr th:only-of-type {\n",
       "        vertical-align: middle;\n",
       "    }\n",
       "\n",
       "    .dataframe tbody tr th {\n",
       "        vertical-align: top;\n",
       "    }\n",
       "\n",
       "    .dataframe thead th {\n",
       "        text-align: right;\n",
       "    }\n",
       "</style>\n",
       "<table border=\"1\" class=\"dataframe\">\n",
       "  <thead>\n",
       "    <tr style=\"text-align: right;\">\n",
       "      <th></th>\n",
       "      <th>Dist ID</th>\n",
       "      <th>Dist Name</th>\n",
       "      <th>City</th>\n",
       "      <th>Zip Code</th>\n",
       "      <th>Address</th>\n",
       "      <th>Lat</th>\n",
       "      <th>Lng</th>\n",
       "      <th>2018 Rank</th>\n",
       "      <th>2018 Rank of</th>\n",
       "      <th>2018 Rank Stars</th>\n",
       "      <th>...</th>\n",
       "      <th>2018 Rank Score</th>\n",
       "      <th>2019 Rank</th>\n",
       "      <th>2019 Rank of</th>\n",
       "      <th>2019 Rank Stars</th>\n",
       "      <th>2019 State Rank</th>\n",
       "      <th>2019 Rank Score</th>\n",
       "      <th>2019 Student Count</th>\n",
       "      <th>Low Grade</th>\n",
       "      <th>High Grade</th>\n",
       "      <th>School Count</th>\n",
       "    </tr>\n",
       "  </thead>\n",
       "  <tbody>\n",
       "    <tr>\n",
       "      <td>0</td>\n",
       "      <td>3409930</td>\n",
       "      <td>Mendham Township School District</td>\n",
       "      <td>Brookside</td>\n",
       "      <td>07926</td>\n",
       "      <td>18 West Main Street</td>\n",
       "      <td></td>\n",
       "      <td></td>\n",
       "      <td>1</td>\n",
       "      <td>618</td>\n",
       "      <td>5</td>\n",
       "      <td>...</td>\n",
       "      <td>0.994291</td>\n",
       "      <td>2</td>\n",
       "      <td>5</td>\n",
       "      <td>611</td>\n",
       "      <td>99.67</td>\n",
       "      <td>0.990884</td>\n",
       "      <td>696.0</td>\n",
       "      <td>PK</td>\n",
       "      <td>8</td>\n",
       "      <td>2</td>\n",
       "    </tr>\n",
       "    <tr>\n",
       "      <td>1</td>\n",
       "      <td>3414370</td>\n",
       "      <td>Rumson Borough School District</td>\n",
       "      <td>Rumson</td>\n",
       "      <td>07760</td>\n",
       "      <td>60 Forrest Avenue</td>\n",
       "      <td></td>\n",
       "      <td></td>\n",
       "      <td>1</td>\n",
       "      <td>618</td>\n",
       "      <td>5</td>\n",
       "      <td>...</td>\n",
       "      <td>0.994291</td>\n",
       "      <td>2</td>\n",
       "      <td>5</td>\n",
       "      <td>611</td>\n",
       "      <td>99.67</td>\n",
       "      <td>0.990884</td>\n",
       "      <td>NaN</td>\n",
       "      <td>PK</td>\n",
       "      <td>8</td>\n",
       "      <td>2</td>\n",
       "    </tr>\n",
       "  </tbody>\n",
       "</table>\n",
       "<p>2 rows × 21 columns</p>\n",
       "</div>"
      ],
      "text/plain": [
       "   Dist ID                         Dist Name       City Zip Code  \\\n",
       "0  3409930  Mendham Township School District  Brookside    07926   \n",
       "1  3414370    Rumson Borough School District     Rumson    07760   \n",
       "\n",
       "               Address Lat Lng  2018 Rank  2018 Rank of  2018 Rank Stars  ...  \\\n",
       "0  18 West Main Street                  1           618                5  ...   \n",
       "1    60 Forrest Avenue                  1           618                5  ...   \n",
       "\n",
       "   2018 Rank Score  2019 Rank 2019 Rank of 2019 Rank Stars 2019 State Rank  \\\n",
       "0         0.994291          2            5             611           99.67   \n",
       "1         0.994291          2            5             611           99.67   \n",
       "\n",
       "  2019 Rank Score 2019 Student Count  Low Grade High Grade School Count  \n",
       "0        0.990884              696.0         PK          8            2  \n",
       "1        0.990884                NaN         PK          8            2  \n",
       "\n",
       "[2 rows x 21 columns]"
      ]
     },
     "execution_count": 12,
     "metadata": {},
     "output_type": "execute_result"
    }
   ],
   "source": [
    "#Display sample data\n",
    "district_data.head(2)"
   ]
  },
  {
   "cell_type": "code",
   "execution_count": 13,
   "metadata": {},
   "outputs": [
    {
     "name": "stdout",
     "output_type": "stream",
     "text": [
      "<class 'pandas.core.frame.DataFrame'>\n",
      "Int64Index: 618 entries, 0 to 17\n",
      "Data columns (total 21 columns):\n",
      "Dist ID               618 non-null object\n",
      "Dist Name             618 non-null object\n",
      "City                  618 non-null object\n",
      "Zip Code              618 non-null object\n",
      "Address               618 non-null object\n",
      "Lat                   618 non-null object\n",
      "Lng                   618 non-null object\n",
      "2018 Rank             618 non-null int64\n",
      "2018 Rank of          618 non-null int64\n",
      "2018 Rank Stars       618 non-null int64\n",
      "2018 State Rank       618 non-null float64\n",
      "2018 Rank Score       618 non-null float64\n",
      "2019 Rank             618 non-null object\n",
      "2019 Rank of          618 non-null object\n",
      "2019 Rank Stars       618 non-null object\n",
      "2019 State Rank       618 non-null object\n",
      "2019 Rank Score       618 non-null object\n",
      "2019 Student Count    13 non-null float64\n",
      "Low Grade             618 non-null object\n",
      "High Grade            618 non-null object\n",
      "School Count          618 non-null int64\n",
      "dtypes: float64(3), int64(4), object(14)\n",
      "memory usage: 106.2+ KB\n"
     ]
    }
   ],
   "source": [
    "#Chek if data is loaded sucessfully\n",
    "district_data.info()"
   ]
  },
  {
   "cell_type": "code",
   "execution_count": 14,
   "metadata": {},
   "outputs": [],
   "source": [
    "#Export data to csv\n",
    "district_data.to_csv(file_path)"
   ]
  },
  {
   "cell_type": "code",
   "execution_count": null,
   "metadata": {},
   "outputs": [],
   "source": []
  }
 ],
 "metadata": {
  "kernelspec": {
   "display_name": "Python 3",
   "language": "python",
   "name": "python3"
  },
  "language_info": {
   "codemirror_mode": {
    "name": "ipython",
    "version": 3
   },
   "file_extension": ".py",
   "mimetype": "text/x-python",
   "name": "python",
   "nbconvert_exporter": "python",
   "pygments_lexer": "ipython3",
   "version": "3.7.6"
  }
 },
 "nbformat": 4,
 "nbformat_minor": 4
}
