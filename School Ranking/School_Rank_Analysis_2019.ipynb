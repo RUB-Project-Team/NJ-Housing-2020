{
 "cells": [
  {
   "cell_type": "code",
   "execution_count": null,
   "metadata": {},
   "outputs": [],
   "source": [
    "# Dependencies and Setup\n",
    "import matplotlib.pyplot as plt\n",
    "import pandas as pd\n",
    "import numpy as np\n",
    "import csv"
   ]
  },
  {
   "cell_type": "code",
   "execution_count": null,
   "metadata": {},
   "outputs": [],
   "source": [
    "# Read School Data File and store into Pandas Data Frames\n",
    "school_data_df = pd.read_csv(\"../Final Output Data/schoolRank_data.csv\")\n",
    "school_data_df"
   ]
  },
  {
   "cell_type": "code",
   "execution_count": null,
   "metadata": {},
   "outputs": [],
   "source": [
    "#checking the data type for each column\n",
    "school_data_df.dtypes"
   ]
  },
  {
   "cell_type": "code",
   "execution_count": null,
   "metadata": {},
   "outputs": [],
   "source": [
    "#checking the number of records\n",
    "school_data_df.count()"
   ]
  },
  {
   "cell_type": "markdown",
   "metadata": {},
   "source": [
    "### Number of Records\n",
    "    '2019 Rank, Rank Stars, Rank Level, and Avg Score' have 100 data points less than the other column values, \n",
    "whereas '2019 student count' is missing most of the values"
   ]
  },
  {
   "cell_type": "code",
   "execution_count": null,
   "metadata": {},
   "outputs": [],
   "source": [
    "#Discarding rows with no Rank value for 2019\n",
    "school_data_df =school_data_df[~school_data_df['2019 Rank'].isnull()]\n",
    "school_data_df"
   ]
  },
  {
   "cell_type": "code",
   "execution_count": null,
   "metadata": {},
   "outputs": [],
   "source": [
    "#checking the count after removing rows with null values\n",
    "school_data_df.count()"
   ]
  },
  {
   "cell_type": "code",
   "execution_count": null,
   "metadata": {},
   "outputs": [],
   "source": [
    "#Extracting data for school year 2019\n",
    "school_data_2019=school_data_df.drop(columns=['2018 Rank',  '2018 Rank Level', '2018 Avg Score',\n",
    "                                              'School Name', 'Address','Low Grade','High Grade', '2019 Student Count',\n",
    "                                             '2018 Rank Stars'])\n",
    "school_data_2019\n"
   ]
  },
  {
   "cell_type": "code",
   "execution_count": null,
   "metadata": {},
   "outputs": [],
   "source": [
    "#exporting 2019 data to csv\n",
    "school_data_2019.to_csv(\"../Final Output Data/school_data_2019.csv\")"
   ]
  },
  {
   "cell_type": "code",
   "execution_count": null,
   "metadata": {},
   "outputs": [],
   "source": [
    "#top 10 performing schools of 2019\n",
    "school_data_2019_sorted=school_data_2019.sort_values('2019 Rank')\n",
    "school_data_2019_sorted.head(10)"
   ]
  },
  {
   "cell_type": "markdown",
   "metadata": {},
   "source": []
  },
  {
   "cell_type": "code",
   "execution_count": null,
   "metadata": {},
   "outputs": [],
   "source": [
    "#Bottom 10 schools\n",
    "school_data_2019_bottom=school_data_2019.sort_values('2019 Rank', ascending=False)\n",
    "school_data_2019_bottom.head(10)"
   ]
  },
  {
   "cell_type": "code",
   "execution_count": null,
   "metadata": {},
   "outputs": [],
   "source": [
    "#Average rank of the school by the zip code\n",
    "avg_rank_zip=school_data_2019.groupby(['Zip Code']).mean()[['2019 Rank','2019 Avg Score']]\n",
    "avg_rank_zip"
   ]
  },
  {
   "cell_type": "code",
   "execution_count": null,
   "metadata": {},
   "outputs": [],
   "source": [
    "avg_rank_zip.to_csv(\"../Final Output Data/avg_rank_zip_2019.csv\")"
   ]
  },
  {
   "cell_type": "code",
   "execution_count": null,
   "metadata": {},
   "outputs": [],
   "source": [
    "avg_rank_city=school_data_2019.groupby(['City']).mean()[['2019 Rank', '2019 Avg Score']]\n",
    "avg_rank_city"
   ]
  },
  {
   "cell_type": "code",
   "execution_count": null,
   "metadata": {},
   "outputs": [],
   "source": [
    "avg_rank_city.to_csv(\"../Final Output Data/avg_rank_city_2019.csv\")"
   ]
  },
  {
   "cell_type": "code",
   "execution_count": 41,
   "metadata": {},
   "outputs": [
    {
     "data": {
      "text/html": [
       "<div>\n",
       "<style scoped>\n",
       "    .dataframe tbody tr th:only-of-type {\n",
       "        vertical-align: middle;\n",
       "    }\n",
       "\n",
       "    .dataframe tbody tr th {\n",
       "        vertical-align: top;\n",
       "    }\n",
       "\n",
       "    .dataframe thead th {\n",
       "        text-align: right;\n",
       "    }\n",
       "</style>\n",
       "<table border=\"1\" class=\"dataframe\">\n",
       "  <thead>\n",
       "    <tr style=\"text-align: right;\">\n",
       "      <th></th>\n",
       "      <th>Unnamed: 0</th>\n",
       "      <th>School ID</th>\n",
       "      <th>City</th>\n",
       "      <th>Zip Code</th>\n",
       "      <th>2019 Rank</th>\n",
       "      <th>2019 Rank Level</th>\n",
       "      <th>2019 Avg Score</th>\n",
       "      <th>School Level</th>\n",
       "    </tr>\n",
       "    <tr>\n",
       "      <th>2019 Rank Stars</th>\n",
       "      <th></th>\n",
       "      <th></th>\n",
       "      <th></th>\n",
       "      <th></th>\n",
       "      <th></th>\n",
       "      <th></th>\n",
       "      <th></th>\n",
       "      <th></th>\n",
       "    </tr>\n",
       "  </thead>\n",
       "  <tbody>\n",
       "    <tr>\n",
       "      <th>0.0</th>\n",
       "      <td>162</td>\n",
       "      <td>162</td>\n",
       "      <td>162</td>\n",
       "      <td>162</td>\n",
       "      <td>162</td>\n",
       "      <td>162</td>\n",
       "      <td>162</td>\n",
       "      <td>162</td>\n",
       "    </tr>\n",
       "    <tr>\n",
       "      <th>1.0</th>\n",
       "      <td>450</td>\n",
       "      <td>450</td>\n",
       "      <td>450</td>\n",
       "      <td>450</td>\n",
       "      <td>450</td>\n",
       "      <td>450</td>\n",
       "      <td>450</td>\n",
       "      <td>450</td>\n",
       "    </tr>\n",
       "    <tr>\n",
       "      <th>2.0</th>\n",
       "      <td>400</td>\n",
       "      <td>400</td>\n",
       "      <td>400</td>\n",
       "      <td>400</td>\n",
       "      <td>400</td>\n",
       "      <td>400</td>\n",
       "      <td>400</td>\n",
       "      <td>400</td>\n",
       "    </tr>\n",
       "    <tr>\n",
       "      <th>3.0</th>\n",
       "      <td>550</td>\n",
       "      <td>550</td>\n",
       "      <td>550</td>\n",
       "      <td>550</td>\n",
       "      <td>550</td>\n",
       "      <td>550</td>\n",
       "      <td>550</td>\n",
       "      <td>550</td>\n",
       "    </tr>\n",
       "    <tr>\n",
       "      <th>4.0</th>\n",
       "      <td>550</td>\n",
       "      <td>550</td>\n",
       "      <td>550</td>\n",
       "      <td>550</td>\n",
       "      <td>550</td>\n",
       "      <td>550</td>\n",
       "      <td>550</td>\n",
       "      <td>550</td>\n",
       "    </tr>\n",
       "    <tr>\n",
       "      <th>5.0</th>\n",
       "      <td>300</td>\n",
       "      <td>300</td>\n",
       "      <td>300</td>\n",
       "      <td>300</td>\n",
       "      <td>300</td>\n",
       "      <td>300</td>\n",
       "      <td>300</td>\n",
       "      <td>300</td>\n",
       "    </tr>\n",
       "  </tbody>\n",
       "</table>\n",
       "</div>"
      ],
      "text/plain": [
       "                 Unnamed: 0  School ID  City  Zip Code  2019 Rank  \\\n",
       "2019 Rank Stars                                                     \n",
       "0.0                     162        162   162       162        162   \n",
       "1.0                     450        450   450       450        450   \n",
       "2.0                     400        400   400       400        400   \n",
       "3.0                     550        550   550       550        550   \n",
       "4.0                     550        550   550       550        550   \n",
       "5.0                     300        300   300       300        300   \n",
       "\n",
       "                 2019 Rank Level  2019 Avg Score  School Level  \n",
       "2019 Rank Stars                                                 \n",
       "0.0                          162             162           162  \n",
       "1.0                          450             450           450  \n",
       "2.0                          400             400           400  \n",
       "3.0                          550             550           550  \n",
       "4.0                          550             550           550  \n",
       "5.0                          300             300           300  "
      ]
     },
     "execution_count": 41,
     "metadata": {},
     "output_type": "execute_result"
    }
   ],
   "source": [
    "#Create a pie-chart\n",
    "rank_sizes = school_data_2019.groupby(['2019 Rank Stars']).count()\n",
    "rank_sizes\n"
   ]
  },
  {
   "cell_type": "code",
   "execution_count": 52,
   "metadata": {},
   "outputs": [
    {
     "data": {
      "image/png": "[encoded data removed]",
      "text/plain": [
       "<Figure size 400x400 with 1 Axes>"
      ]
     },
     "metadata": {},
     "output_type": "display_data"
    }
   ],
   "source": [
    "sizes=rank_sizes['2019 Rank'] \n",
    "colors = ['Orange','Red','yellow',\"gold\",\"Green\",\"Silver\"]\n",
    "labels=['Zero Star','One Star','Two Star', 'Three Star','Four Star','Five Star']\n",
    "explode = (0.03,0.03,0.03,0.03,0.03,0.1)\n",
    "plt.figure(figsize=(5,5), dpi=80)\n",
    "plt.pie(sizes, labels=labels, colors =colors, autopct='%1.1f%%', explode=explode, startangle =140 )\n",
    "plt.title(\"School Rank Distribution in NJ for the Year 2019\")\n",
    "plt.show()"
   ]
  }
 ],
 "metadata": {
  "kernelspec": {
   "display_name": "Python 3",
   "language": "python",
   "name": "python3"
  },
  "language_info": {
   "codemirror_mode": {
    "name": "ipython",
    "version": 3
   },
   "file_extension": ".py",
   "mimetype": "text/x-python",
   "name": "python",
   "nbconvert_exporter": "python",
   "pygments_lexer": "ipython3",
   "version": "3.7.6"
  }
 },
 "nbformat": 4,
 "nbformat_minor": 4
}
