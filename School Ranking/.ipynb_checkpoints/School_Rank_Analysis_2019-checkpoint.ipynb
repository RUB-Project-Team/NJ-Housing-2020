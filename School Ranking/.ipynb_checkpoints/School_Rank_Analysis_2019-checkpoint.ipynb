{
 "cells": [
  {
   "cell_type": "code",
   "execution_count": null,
   "metadata": {},
   "outputs": [],
   "source": [
    "# Dependencies and Setup\n",
    "import pandas as pd\n",
    "import numpy as np\n",
    "import csv"
   ]
  },
  {
   "cell_type": "code",
   "execution_count": null,
   "metadata": {},
   "outputs": [],
   "source": [
    "# Read School Data File and store into Pandas Data Frames\n",
    "school_data_df = pd.read_csv(\"schoolRank_data.csv\")\n",
    "school_data_df"
   ]
  },
  {
   "cell_type": "code",
   "execution_count": null,
   "metadata": {},
   "outputs": [],
   "source": [
    "#checking the data type\n",
    "school_data_df.dtypes"
   ]
  },
  {
   "cell_type": "code",
   "execution_count": null,
   "metadata": {},
   "outputs": [],
   "source": [
    "#checking the number of records\n",
    "school_data_df.count()"
   ]
  },
  {
   "cell_type": "markdown",
   "metadata": {},
   "source": [
    "### Number of Records\n",
    "    '2019 Rank, Rank Stars, Rank Level, and Avg Score' have 100 data points less than the other column values, \n",
    "whereas '2019 student count' is missing most of the values"
   ]
  },
  {
   "cell_type": "code",
   "execution_count": null,
   "metadata": {},
   "outputs": [],
   "source": [
    "#Discarding rows with no Rank value for 2019\n",
    "school_data_df =school_data_df[~school_data_df['2019 Rank'].isnull()]\n",
    "school_data_df"
   ]
  },
  {
   "cell_type": "code",
   "execution_count": null,
   "metadata": {},
   "outputs": [],
   "source": [
    "school_data_df.count()"
   ]
  },
  {
   "cell_type": "code",
   "execution_count": null,
   "metadata": {},
   "outputs": [],
   "source": [
    "#Extracting data for school year 2019\n",
    "school_data_2019=school_data_df.drop(columns=['2018 Rank', '2018 Rank Stars', '2018 Rank Level', '2018 Avg Score',\n",
    "                                              'School Name', 'Address','Low Grade','High Grade', '2019 Student Count',\n",
    "                                             '2019 Rank Stars'])\n",
    "school_data_2019\n"
   ]
  },
  {
   "cell_type": "code",
   "execution_count": null,
   "metadata": {},
   "outputs": [],
   "source": [
    "#exporting 2019 data to csv\n",
    "school_data_2019.to_csv(\"school_data_2019.csv\")"
   ]
  },
  {
   "cell_type": "code",
   "execution_count": null,
   "metadata": {},
   "outputs": [],
   "source": [
    "#top 10 performing schools of 2019\n",
    "school_data_2019_sorted=school_data_2019.sort_values('2019 Rank')\n",
    "school_data_2019_sorted\n",
    "school_data_2019_sorted.head(10)"
   ]
  },
  {
   "cell_type": "markdown",
   "metadata": {},
   "source": []
  },
  {
   "cell_type": "code",
   "execution_count": null,
   "metadata": {},
   "outputs": [],
   "source": [
    "#Bottom 10 schools\n",
    "school_data_2019_bottom=school_data_2019.sort_values('2019 Rank', ascending=False)\n",
    "school_data_2019_bottom.head(10)"
   ]
  },
  {
   "cell_type": "code",
   "execution_count": null,
   "metadata": {},
   "outputs": [],
   "source": [
    "#average rank by zip and by city\n",
    "school_city=school_data_2019.set_index(['City'])\n",
    "school_city"
   ]
  },
  {
   "cell_type": "code",
   "execution_count": null,
   "metadata": {},
   "outputs": [],
   "source": [
    "avg_rank_zip=school_city.groupby(['Zip Code']).mean()[['2019 Rank','2019 Avg Score']]\n",
    "avg_rank_zip"
   ]
  },
  {
   "cell_type": "code",
   "execution_count": null,
   "metadata": {},
   "outputs": [],
   "source": [
    "avg_rank_zip.to_csv(\"avg_rank_zip_2019.csv\")"
   ]
  },
  {
   "cell_type": "code",
   "execution_count": null,
   "metadata": {},
   "outputs": [],
   "source": [
    "avg_rank_city=school_data_2019.groupby(['City']).mean()[['2019 Rank', '2019 Avg Score']]\n",
    "avg_rank_city"
   ]
  },
  {
   "cell_type": "code",
   "execution_count": null,
   "metadata": {},
   "outputs": [],
   "source": [
    "avg_rank_city.to_csv(\"avg_rank_city_2019.csv\")"
   ]
  },
  {
   "cell_type": "code",
   "execution_count": null,
   "metadata": {},
   "outputs": [],
   "source": []
  }
 ],
 "metadata": {
  "kernelspec": {
   "display_name": "Python 3",
   "language": "python",
   "name": "python3"
  },
  "language_info": {
   "codemirror_mode": {
    "name": "ipython",
    "version": 3
   },
   "file_extension": ".py",
   "mimetype": "text/x-python",
   "name": "python",
   "nbconvert_exporter": "python",
   "pygments_lexer": "ipython3",
   "version": "3.7.6"
  }
 },
 "nbformat": 4,
 "nbformat_minor": 4
}
