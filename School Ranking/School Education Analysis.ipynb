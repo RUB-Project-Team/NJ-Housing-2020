{
 "cells": [
  {
   "cell_type": "code",
   "execution_count": 1,
   "metadata": {},
   "outputs": [],
   "source": [
    "#Import Libraries\n",
    "import pandas as pd\n",
    "import numpy as np\n",
    "import requests\n",
    "import json\n",
    "import os\n",
    "from pandas.io.json import json_normalize  \n",
    "import csv"
   ]
  },
  {
   "cell_type": "code",
   "execution_count": 2,
   "metadata": {},
   "outputs": [],
   "source": [
    "#File Path\n",
    "file_path=os.path.join(\"..\",\"Final Output Data\",\"schoolRank_data.csv\")"
   ]
  },
  {
   "cell_type": "code",
   "execution_count": 3,
   "metadata": {},
   "outputs": [],
   "source": [
    "#Get API key\n",
    "from config import appKey"
   ]
  },
  {
   "cell_type": "code",
   "execution_count": 4,
   "metadata": {},
   "outputs": [],
   "source": [
    "#URL and Parameters \n",
    "base_url=\"https://api.schooldigger.com/v1.2/rankings/schools/NJ?year=2019\"\n",
    "param=\"&level=Middle\"\n",
    "param0=\"&level=High\"\n",
    "param1=\"&page=\"\n",
    "param2=\"&perPage=50&appID=59309557\"\n",
    "param3=\"&appKey=\" + appKey"
   ]
  },
  {
   "cell_type": "code",
   "execution_count": 5,
   "metadata": {},
   "outputs": [],
   "source": [
    "#School types\n",
    "school_level=[\"Elementary\",\"Middle\",\"High\"]"
   ]
  },
  {
   "cell_type": "code",
   "execution_count": 6,
   "metadata": {},
   "outputs": [],
   "source": [
    "#Function to generate list of schools\n",
    "def getSchoolList(pageCount,baseUrl):\n",
    "    \n",
    "    range_limit=int(pageCount)+1\n",
    "    \n",
    "    #Loop through all pages\n",
    "    for i in range(1,range_limit):\n",
    "        \n",
    "        #Set page # parameter\n",
    "        param1=\"&page=\"+str(i)\n",
    "        \n",
    "        #Build URL\n",
    "        url=baseUrl+param1\n",
    "    \n",
    "        #Get json response\n",
    "        response = requests.get(url).json()\n",
    "\n",
    "        #Normalize json file\n",
    "        df = json_normalize(response)\n",
    "\n",
    "        #Get results from the data frame\n",
    "        school_set=pd.DataFrame(df[\"schoolList\"][0])\n",
    "\n",
    "        # lets get address details\n",
    "        school_address = json_normalize(school_set['address']) \n",
    "\n",
    "        #Get school address details\n",
    "        try:\n",
    "            street=school_address[\"street\"]\n",
    "        except:\n",
    "            street=\"\"\n",
    "        try:\n",
    "            city=school_address[\"city\"]\n",
    "        except:\n",
    "            city=\"\"\n",
    "        try:\n",
    "            zipcode=school_address[\"zip\"]\n",
    "        except:\n",
    "            zipcode=\"\"\n",
    "        try:\n",
    "            lat=school_address[\"latLong.latitude\"]\n",
    "        except:\n",
    "            lat=\"\"\n",
    "        try:\n",
    "            lng=school_address[\"latLong.longitude\"]\n",
    "        except:\n",
    "            lng=\"\"\n",
    "\n",
    "        #Append columns in school district data set\n",
    "        school_set[\"City\"]=city\n",
    "        school_set[\"Zip Code\"]=zipcode\n",
    "        school_set[\"Address\"]=street\n",
    "        school_set[\"Lat\"]=lat\n",
    "        school_set[\"Lng\"]=lng\n",
    "\n",
    "        #Lets work on school rank history\n",
    "        school_rank=pd.DataFrame(school_set['rankHistory'][0])\n",
    "\n",
    "        #Get school ranks - interested in 2018 and 2019 \n",
    "        try:\n",
    "            year2018=school_rank[\"year\"].iloc[0]\n",
    "        except:\n",
    "            year2018=\"2018\"\n",
    "        try:\n",
    "            year2018rank=school_rank[\"rank\"].iloc[0]\n",
    "        except:\n",
    "            year2018rank=\"\"\n",
    "        try:\n",
    "            year2018rankstar=school_rank[\"rankStars\"].iloc[0]\n",
    "        except:\n",
    "            year2018rankstar=\"\"\n",
    "        try:\n",
    "            year2018ranklevel=school_rank[\"rankLevel\"].iloc[0]\n",
    "        except:\n",
    "            year2018ranklevel=\"\"\n",
    "        try:    \n",
    "            year2018avgscore=school_rank[\"averageStandardScore\"].iloc[0]\n",
    "        except:\n",
    "            year2018avgscore=\"\"\n",
    "        try:\n",
    "            year2019=school_rank[\"year\"].iloc[1]\n",
    "        except:\n",
    "            year2019=\"2019\"\n",
    "        try:\n",
    "            year2019rank=school_rank[\"rank\"].iloc[1]\n",
    "        except:\n",
    "            year2019rank=\"\"\n",
    "        try:    \n",
    "            year2019rankstar=school_rank[\"rankStars\"].iloc[1]\n",
    "        except:\n",
    "            year2019rankstar=\"\"\n",
    "        try:\n",
    "            year2019ranklevel=school_rank[\"rankLevel\"].iloc[1]\n",
    "        except:\n",
    "            year2019ranklevel=\"\"\n",
    "        try:\n",
    "            year2019avgscore=school_rank[\"averageStandardScore\"].iloc[1]\n",
    "        except:\n",
    "            year2019avgscore=\"\"\n",
    "\n",
    "        #Append columns in school_set\n",
    "        #school_set[\"Year 2018\"]=year2018\n",
    "        school_set[\"2018 Rank\"]=year2018rank\n",
    "        school_set[\"2018 Rank Stars\"]=year2018rankstar\n",
    "        school_set[\"2018 Rank Level\"]=year2018ranklevel\n",
    "        school_set[\"2018 Avg Score\"]=year2018avgscore\n",
    "        #school_set[\"Year 2019\"]=year2019\n",
    "        school_set[\"2019 Rank\"]=year2019rank\n",
    "        school_set[\"2019 Rank Stars\"]=year2019rankstar\n",
    "        school_set[\"2019 Rank Level\"]=year2019ranklevel\n",
    "        school_set[\"2019 Avg Score\"]=year2019avgscore\n",
    "\n",
    "        #Get school details\n",
    "        try:\n",
    "            school_info=pd.DataFrame(school_set['schoolYearlyDetails'][0])\n",
    "\n",
    "            #Add student count for school\n",
    "            try:\n",
    "                studentcount_2019=school_info[\"numberOfStudents\"]\n",
    "            except:\n",
    "                studentcount_2019=\"\"\n",
    "        except:\n",
    "            studentcount_2019=\"\"\n",
    "        finally:\n",
    "            #Populate student count if available\n",
    "            school_set[\"2019 Student Count\"]=studentcount_2019\n",
    "\n",
    "        #Populate Data \n",
    "        df_list.append(school_set)"
   ]
  },
  {
   "cell_type": "code",
   "execution_count": 7,
   "metadata": {},
   "outputs": [],
   "source": [
    "#List to hold school info\n",
    "df_list=[]\n",
    "sURL=base_url+param2+param3\n",
    "\n",
    "#Loop through all schools\n",
    "for i in range(len(school_level)):\n",
    "   \n",
    "    #Get school Type\n",
    "    schoolType=school_level[i]\n",
    "    \n",
    "    if schoolType==\"Elementary\":\n",
    "        baseUrl=sURL\n",
    "        pageCount=28\n",
    "\n",
    "    elif schoolType==\"Middle\":\n",
    "        baseUrl=sURL+param\n",
    "        pageCount=15\n",
    "\n",
    "    elif schoolType==\"High\":\n",
    "        baseUrl=sURL+param0\n",
    "        pageCount=9\n",
    "    \n",
    "    #Get school info\n",
    "    getSchoolList(pageCount,baseUrl)"
   ]
  },
  {
   "cell_type": "code",
   "execution_count": 8,
   "metadata": {},
   "outputs": [
    {
     "data": {
      "text/plain": [
       "52"
      ]
     },
     "execution_count": 8,
     "metadata": {},
     "output_type": "execute_result"
    }
   ],
   "source": [
    "#Check number of datasets Elementtry:28,Middle School:15 and High School:9 (28+15+9=52)\n",
    "len(df_list)"
   ]
  },
  {
   "cell_type": "code",
   "execution_count": 9,
   "metadata": {},
   "outputs": [],
   "source": [
    "#Lets merge all data\n",
    "school_data = pd.concat(df_list,sort=False)"
   ]
  },
  {
   "cell_type": "code",
   "execution_count": 10,
   "metadata": {},
   "outputs": [
    {
     "data": {
      "text/plain": [
       "Index(['schoolid', 'schoolName', 'phone', 'url', 'urlCompare', 'address',\n",
       "       'lowGrade', 'highGrade', 'schoolLevel', 'isCharterSchool',\n",
       "       'isMagnetSchool', 'isVirtualSchool', 'isTitleISchool',\n",
       "       'isTitleISchoolwideSchool', 'district', 'county', 'rankHistory',\n",
       "       'rankMovement', 'schoolYearlyDetails', 'isPrivate', 'privateDays',\n",
       "       'privateHours', 'privateHasLibrary', 'privateCoed',\n",
       "       'privateOrientation', 'hasBoundary', 'City', 'Zip Code', 'Address',\n",
       "       'Lat', 'Lng', '2018 Rank', '2018 Rank Stars', '2018 Rank Level',\n",
       "       '2018 Avg Score', '2019 Rank', '2019 Rank Stars', '2019 Rank Level',\n",
       "       '2019 Avg Score', '2019 Student Count'],\n",
       "      dtype='object')"
      ]
     },
     "execution_count": 10,
     "metadata": {},
     "output_type": "execute_result"
    }
   ],
   "source": [
    "#Check school data columns\n",
    "school_data.columns"
   ]
  },
  {
   "cell_type": "code",
   "execution_count": 13,
   "metadata": {},
   "outputs": [],
   "source": [
    "#Drop columns that we extracted data from\n",
    "school_data_set=school_data.drop(columns=[\"address\",\"county\",\"district\",\"hasBoundary\",\"isCharterSchool\",\n",
    "                                              \"isMagnetSchool\",\"isPrivate\",\"isTitleISchool\",\"isTitleISchoolwideSchool\",\n",
    "                                              \"isVirtualSchool\",\"phone\",\"privateCoed\",\n",
    "                                              \"privateDays\",\"privateHasLibrary\",\"privateHours\",\"privateOrientation\",\n",
    "                                              \"rankHistory\",\"rankMovement\",\"schoolYearlyDetails\",\"url\",\"urlCompare\"],axis=1)"
   ]
  },
  {
   "cell_type": "code",
   "execution_count": 14,
   "metadata": {},
   "outputs": [],
   "source": [
    "#Rename columns\n",
    "school_data_set = school_data_set.rename(columns ={\"schoolid\": \"School ID\",\"schoolName\":\"School Name\",\n",
    "                           \"lowGrade\":\"Low Grade\",\"highGrade\":\"High Grade\",\"schoolLevel\":\"School Level\"})"
   ]
  },
  {
   "cell_type": "code",
   "execution_count": 15,
   "metadata": {},
   "outputs": [],
   "source": [
    "#Reorder column names\n",
    "school_data=school_data_set[['School ID', 'School Name', 'City', 'Zip Code', 'Address', '2018 Rank', '2018 Rank Stars', \n",
    "                             '2018 Rank Level','2018 Avg Score', '2019 Rank', '2019 Rank Stars', '2019 Rank Level',\n",
    "                             '2019 Avg Score','2019 Student Count', 'Low Grade', 'High Grade', 'School Level']]"
   ]
  },
  {
   "cell_type": "code",
   "execution_count": 16,
   "metadata": {},
   "outputs": [
    {
     "data": {
      "text/html": [
       "<div>\n",
       "<style scoped>\n",
       "    .dataframe tbody tr th:only-of-type {\n",
       "        vertical-align: middle;\n",
       "    }\n",
       "\n",
       "    .dataframe tbody tr th {\n",
       "        vertical-align: top;\n",
       "    }\n",
       "\n",
       "    .dataframe thead th {\n",
       "        text-align: right;\n",
       "    }\n",
       "</style>\n",
       "<table border=\"1\" class=\"dataframe\">\n",
       "  <thead>\n",
       "    <tr style=\"text-align: right;\">\n",
       "      <th></th>\n",
       "      <th>School ID</th>\n",
       "      <th>School Name</th>\n",
       "      <th>City</th>\n",
       "      <th>Zip Code</th>\n",
       "      <th>Address</th>\n",
       "      <th>2018 Rank</th>\n",
       "      <th>2018 Rank Stars</th>\n",
       "      <th>2018 Rank Level</th>\n",
       "      <th>2018 Avg Score</th>\n",
       "      <th>2019 Rank</th>\n",
       "      <th>2019 Rank Stars</th>\n",
       "      <th>2019 Rank Level</th>\n",
       "      <th>2019 Avg Score</th>\n",
       "      <th>2019 Student Count</th>\n",
       "      <th>Low Grade</th>\n",
       "      <th>High Grade</th>\n",
       "      <th>School Level</th>\n",
       "    </tr>\n",
       "  </thead>\n",
       "  <tbody>\n",
       "    <tr>\n",
       "      <td>0</td>\n",
       "      <td>341269004924</td>\n",
       "      <td>School 28</td>\n",
       "      <td>Paterson</td>\n",
       "      <td>07522</td>\n",
       "      <td>200 Presidential Boulevard</td>\n",
       "      <td>1</td>\n",
       "      <td>5</td>\n",
       "      <td>Elementary</td>\n",
       "      <td>98.61146</td>\n",
       "      <td>1</td>\n",
       "      <td>5</td>\n",
       "      <td>Elementary</td>\n",
       "      <td>98.1334</td>\n",
       "      <td>505.0</td>\n",
       "      <td>PK</td>\n",
       "      <td>8</td>\n",
       "      <td>Elementary</td>\n",
       "    </tr>\n",
       "    <tr>\n",
       "      <td>1</td>\n",
       "      <td>340933000596</td>\n",
       "      <td>George Washington School</td>\n",
       "      <td>Mahwah</td>\n",
       "      <td>07430</td>\n",
       "      <td>39 Fardale Avenue</td>\n",
       "      <td>1</td>\n",
       "      <td>5</td>\n",
       "      <td>Elementary</td>\n",
       "      <td>98.61146</td>\n",
       "      <td>1</td>\n",
       "      <td>5</td>\n",
       "      <td>Elementary</td>\n",
       "      <td>98.1334</td>\n",
       "      <td>NaN</td>\n",
       "      <td>K</td>\n",
       "      <td>3</td>\n",
       "      <td>Elementary</td>\n",
       "    </tr>\n",
       "  </tbody>\n",
       "</table>\n",
       "</div>"
      ],
      "text/plain": [
       "      School ID               School Name      City Zip Code  \\\n",
       "0  341269004924                 School 28  Paterson    07522   \n",
       "1  340933000596  George Washington School    Mahwah    07430   \n",
       "\n",
       "                      Address  2018 Rank  2018 Rank Stars 2018 Rank Level  \\\n",
       "0  200 Presidential Boulevard          1                5      Elementary   \n",
       "1           39 Fardale Avenue          1                5      Elementary   \n",
       "\n",
       "   2018 Avg Score 2019 Rank 2019 Rank Stars 2019 Rank Level 2019 Avg Score  \\\n",
       "0        98.61146         1               5      Elementary        98.1334   \n",
       "1        98.61146         1               5      Elementary        98.1334   \n",
       "\n",
       "   2019 Student Count Low Grade High Grade School Level  \n",
       "0               505.0        PK          8   Elementary  \n",
       "1                 NaN         K          3   Elementary  "
      ]
     },
     "execution_count": 16,
     "metadata": {},
     "output_type": "execute_result"
    }
   ],
   "source": [
    "#Check sample data\n",
    "school_data.head(2)"
   ]
  },
  {
   "cell_type": "code",
   "execution_count": 17,
   "metadata": {},
   "outputs": [
    {
     "name": "stdout",
     "output_type": "stream",
     "text": [
      "<class 'pandas.core.frame.DataFrame'>\n",
      "Int64Index: 2512 entries, 0 to 13\n",
      "Data columns (total 17 columns):\n",
      "School ID             2512 non-null object\n",
      "School Name           2512 non-null object\n",
      "City                  2512 non-null object\n",
      "Zip Code              2512 non-null object\n",
      "Address               2512 non-null object\n",
      "2018 Rank             2512 non-null int64\n",
      "2018 Rank Stars       2512 non-null int64\n",
      "2018 Rank Level       2512 non-null object\n",
      "2018 Avg Score        2512 non-null float64\n",
      "2019 Rank             2512 non-null object\n",
      "2019 Rank Stars       2512 non-null object\n",
      "2019 Rank Level       2512 non-null object\n",
      "2019 Avg Score        2512 non-null object\n",
      "2019 Student Count    52 non-null float64\n",
      "Low Grade             2512 non-null object\n",
      "High Grade            2512 non-null object\n",
      "School Level          2512 non-null object\n",
      "dtypes: float64(2), int64(2), object(13)\n",
      "memory usage: 353.2+ KB\n"
     ]
    }
   ],
   "source": [
    "#Chek if data is loaded sucessfully\n",
    "school_data.info()"
   ]
  },
  {
   "cell_type": "code",
   "execution_count": 18,
   "metadata": {},
   "outputs": [],
   "source": [
    "#Export data to csv\n",
    "school_data.to_csv(file_path)"
   ]
  },
  {
   "cell_type": "code",
   "execution_count": null,
   "metadata": {},
   "outputs": [],
   "source": []
  }
 ],
 "metadata": {
  "kernelspec": {
   "display_name": "Python 3",
   "language": "python",
   "name": "python3"
  },
  "language_info": {
   "codemirror_mode": {
    "name": "ipython",
    "version": 3
   },
   "file_extension": ".py",
   "mimetype": "text/x-python",
   "name": "python",
   "nbconvert_exporter": "python",
   "pygments_lexer": "ipython3",
   "version": "3.7.6"
  }
 },
 "nbformat": 4,
 "nbformat_minor": 4
}
